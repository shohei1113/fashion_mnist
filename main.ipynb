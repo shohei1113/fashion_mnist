{
 "cells": [
  {
   "cell_type": "code",
   "execution_count": 4,
   "metadata": {
    "colab": {},
    "colab_type": "code",
    "id": "dRdv0ml29PSa"
   },
   "outputs": [
    {
     "name": "stderr",
     "output_type": "stream",
     "text": [
      "/Users/skanatani/anaconda3/lib/python3.6/site-packages/h5py/__init__.py:36: FutureWarning: Conversion of the second argument of issubdtype from `float` to `np.floating` is deprecated. In future, it will be treated as `np.float64 == np.dtype(float).type`.\n",
      "  from ._conv import register_converters as _register_converters\n",
      "Using TensorFlow backend.\n"
     ]
    }
   ],
   "source": [
    "from keras.layers import Dense, Activation, Input, Conv2D, LSTM, MaxPool2D, UpSampling2D\n",
    "from sklearn.model_selection import train_test_split\n",
    "from keras.callbacks import EarlyStopping\n",
    "from keras.utils import to_categorical\n",
    "from numpy import argmax, array_equal\n",
    "import matplotlib.pyplot as plt\n",
    "from keras.models import Model\n",
    "from random import randint\n",
    "import pandas as pd\n",
    "import numpy as np"
   ]
  },
  {
   "cell_type": "code",
   "execution_count": 5,
   "metadata": {
    "colab": {},
    "colab_type": "code",
    "id": "nA9_qW1_9WOo",
    "lines_to_next_cell": 2
   },
   "outputs": [],
   "source": [
    "train = pd.read_csv('./data/fashion-mnist_train.csv')\n",
    "train_x = train[list(train.columns)[1:]].values\n",
    "train_y = train['label'].values"
   ]
  },
  {
   "cell_type": "markdown",
   "metadata": {},
   "source": [
    "### データの確認"
   ]
  },
  {
   "cell_type": "code",
   "execution_count": 6,
   "metadata": {},
   "outputs": [
    {
     "data": {
      "text/html": [
       "<div>\n",
       "<style scoped>\n",
       "    .dataframe tbody tr th:only-of-type {\n",
       "        vertical-align: middle;\n",
       "    }\n",
       "\n",
       "    .dataframe tbody tr th {\n",
       "        vertical-align: top;\n",
       "    }\n",
       "\n",
       "    .dataframe thead th {\n",
       "        text-align: right;\n",
       "    }\n",
       "</style>\n",
       "<table border=\"1\" class=\"dataframe\">\n",
       "  <thead>\n",
       "    <tr style=\"text-align: right;\">\n",
       "      <th></th>\n",
       "      <th>label</th>\n",
       "      <th>pixel1</th>\n",
       "      <th>pixel2</th>\n",
       "      <th>pixel3</th>\n",
       "      <th>pixel4</th>\n",
       "      <th>pixel5</th>\n",
       "      <th>pixel6</th>\n",
       "      <th>pixel7</th>\n",
       "      <th>pixel8</th>\n",
       "      <th>pixel9</th>\n",
       "      <th>...</th>\n",
       "      <th>pixel775</th>\n",
       "      <th>pixel776</th>\n",
       "      <th>pixel777</th>\n",
       "      <th>pixel778</th>\n",
       "      <th>pixel779</th>\n",
       "      <th>pixel780</th>\n",
       "      <th>pixel781</th>\n",
       "      <th>pixel782</th>\n",
       "      <th>pixel783</th>\n",
       "      <th>pixel784</th>\n",
       "    </tr>\n",
       "  </thead>\n",
       "  <tbody>\n",
       "    <tr>\n",
       "      <th>0</th>\n",
       "      <td>2</td>\n",
       "      <td>0</td>\n",
       "      <td>0</td>\n",
       "      <td>0</td>\n",
       "      <td>0</td>\n",
       "      <td>0</td>\n",
       "      <td>0</td>\n",
       "      <td>0</td>\n",
       "      <td>0</td>\n",
       "      <td>0</td>\n",
       "      <td>...</td>\n",
       "      <td>0</td>\n",
       "      <td>0</td>\n",
       "      <td>0</td>\n",
       "      <td>0</td>\n",
       "      <td>0</td>\n",
       "      <td>0</td>\n",
       "      <td>0</td>\n",
       "      <td>0</td>\n",
       "      <td>0</td>\n",
       "      <td>0</td>\n",
       "    </tr>\n",
       "    <tr>\n",
       "      <th>1</th>\n",
       "      <td>9</td>\n",
       "      <td>0</td>\n",
       "      <td>0</td>\n",
       "      <td>0</td>\n",
       "      <td>0</td>\n",
       "      <td>0</td>\n",
       "      <td>0</td>\n",
       "      <td>0</td>\n",
       "      <td>0</td>\n",
       "      <td>0</td>\n",
       "      <td>...</td>\n",
       "      <td>0</td>\n",
       "      <td>0</td>\n",
       "      <td>0</td>\n",
       "      <td>0</td>\n",
       "      <td>0</td>\n",
       "      <td>0</td>\n",
       "      <td>0</td>\n",
       "      <td>0</td>\n",
       "      <td>0</td>\n",
       "      <td>0</td>\n",
       "    </tr>\n",
       "    <tr>\n",
       "      <th>2</th>\n",
       "      <td>6</td>\n",
       "      <td>0</td>\n",
       "      <td>0</td>\n",
       "      <td>0</td>\n",
       "      <td>0</td>\n",
       "      <td>0</td>\n",
       "      <td>0</td>\n",
       "      <td>0</td>\n",
       "      <td>5</td>\n",
       "      <td>0</td>\n",
       "      <td>...</td>\n",
       "      <td>0</td>\n",
       "      <td>0</td>\n",
       "      <td>0</td>\n",
       "      <td>30</td>\n",
       "      <td>43</td>\n",
       "      <td>0</td>\n",
       "      <td>0</td>\n",
       "      <td>0</td>\n",
       "      <td>0</td>\n",
       "      <td>0</td>\n",
       "    </tr>\n",
       "    <tr>\n",
       "      <th>3</th>\n",
       "      <td>0</td>\n",
       "      <td>0</td>\n",
       "      <td>0</td>\n",
       "      <td>0</td>\n",
       "      <td>1</td>\n",
       "      <td>2</td>\n",
       "      <td>0</td>\n",
       "      <td>0</td>\n",
       "      <td>0</td>\n",
       "      <td>0</td>\n",
       "      <td>...</td>\n",
       "      <td>3</td>\n",
       "      <td>0</td>\n",
       "      <td>0</td>\n",
       "      <td>0</td>\n",
       "      <td>0</td>\n",
       "      <td>1</td>\n",
       "      <td>0</td>\n",
       "      <td>0</td>\n",
       "      <td>0</td>\n",
       "      <td>0</td>\n",
       "    </tr>\n",
       "    <tr>\n",
       "      <th>4</th>\n",
       "      <td>3</td>\n",
       "      <td>0</td>\n",
       "      <td>0</td>\n",
       "      <td>0</td>\n",
       "      <td>0</td>\n",
       "      <td>0</td>\n",
       "      <td>0</td>\n",
       "      <td>0</td>\n",
       "      <td>0</td>\n",
       "      <td>0</td>\n",
       "      <td>...</td>\n",
       "      <td>0</td>\n",
       "      <td>0</td>\n",
       "      <td>0</td>\n",
       "      <td>0</td>\n",
       "      <td>0</td>\n",
       "      <td>0</td>\n",
       "      <td>0</td>\n",
       "      <td>0</td>\n",
       "      <td>0</td>\n",
       "      <td>0</td>\n",
       "    </tr>\n",
       "  </tbody>\n",
       "</table>\n",
       "<p>5 rows × 785 columns</p>\n",
       "</div>"
      ],
      "text/plain": [
       "   label  pixel1  pixel2  pixel3  pixel4  pixel5  pixel6  pixel7  pixel8  \\\n",
       "0      2       0       0       0       0       0       0       0       0   \n",
       "1      9       0       0       0       0       0       0       0       0   \n",
       "2      6       0       0       0       0       0       0       0       5   \n",
       "3      0       0       0       0       1       2       0       0       0   \n",
       "4      3       0       0       0       0       0       0       0       0   \n",
       "\n",
       "   pixel9    ...     pixel775  pixel776  pixel777  pixel778  pixel779  \\\n",
       "0       0    ...            0         0         0         0         0   \n",
       "1       0    ...            0         0         0         0         0   \n",
       "2       0    ...            0         0         0        30        43   \n",
       "3       0    ...            3         0         0         0         0   \n",
       "4       0    ...            0         0         0         0         0   \n",
       "\n",
       "   pixel780  pixel781  pixel782  pixel783  pixel784  \n",
       "0         0         0         0         0         0  \n",
       "1         0         0         0         0         0  \n",
       "2         0         0         0         0         0  \n",
       "3         1         0         0         0         0  \n",
       "4         0         0         0         0         0  \n",
       "\n",
       "[5 rows x 785 columns]"
      ]
     },
     "execution_count": 6,
     "metadata": {},
     "output_type": "execute_result"
    }
   ],
   "source": [
    "train.head()"
   ]
  },
  {
   "cell_type": "markdown",
   "metadata": {},
   "source": [
    "### データセットの前処理\n",
    "- データセットを読み込み、訓練データと予測用のデータに分割\n",
    "- 正規化"
   ]
  },
  {
   "cell_type": "code",
   "execution_count": 7,
   "metadata": {},
   "outputs": [],
   "source": [
    "train_x = train_x / 255\n",
    "train_x, val_x, train_y, val_y = train_test_split(train_x, train_y, test_size=0.2)\n",
    "\n",
    "train_x = train_x.reshape(-1, 784)\n",
    "val_x = val_x.reshape(-1, 784)"
   ]
  },
  {
   "cell_type": "markdown",
   "metadata": {
    "colab_type": "text",
    "id": "DOICGWUx1LQo"
   },
   "source": [
    "### オートエンコーダーのアーキテクチャを作成\n",
    "- node数が2000, 12000, 500の3つの層で構成"
   ]
  },
  {
   "cell_type": "code",
   "execution_count": 8,
   "metadata": {
    "colab": {},
    "colab_type": "code",
    "id": "OXSfU2iH9ZbZ"
   },
   "outputs": [],
   "source": [
    "input_layer = Input(shape=(784,))\n",
    "\n",
    "encode_layer1 = Dense(1500, activation='relu')(input_layer)\n",
    "encode_layer2 = Dense(1000, activation='relu')(encode_layer1)\n",
    "encode_layer3 = Dense(500, activation='relu')(encode_layer2)\n",
    "\n",
    "latent_view = Dense(10, activation='sigmoid')(encode_layer3)\n",
    "\n",
    "decode_layer1 = Dense(500, activation='relu')(latent_view)\n",
    "decode_layer2 = Dense(1000, activation='relu')(decode_layer1)\n",
    "decode_layer3 = Dense(1500, activation='relu')(decode_layer2)\n",
    "output_layer = Dense(784)(decode_layer3)\n",
    "\n",
    "model = Model(input_layer, output_layer)"
   ]
  },
  {
   "cell_type": "markdown",
   "metadata": {},
   "source": [
    "### モデルのアーキテクチャを可視化"
   ]
  },
  {
   "cell_type": "code",
   "execution_count": 9,
   "metadata": {},
   "outputs": [],
   "source": [
    "import sys\n",
    "\n",
    "sys.path.append('../../python_lib/convnet-drawer')"
   ]
  },
  {
   "cell_type": "code",
   "execution_count": 10,
   "metadata": {},
   "outputs": [],
   "source": [
    "from keras.models import Sequential\n",
    "from convnet_drawer import Model, Conv2D, MaxPooling2D, Flatten, Dense\n",
    "\n",
    "drawer_model = Model(input_shape=(28, 28, 3))\n",
    "\n",
    "drawer_model.add(Flatten())\n",
    "drawer_model.add(Dense(1500))\n",
    "drawer_model.add(Dense(1000))\n",
    "drawer_model.add(Dense(500))\n",
    "drawer_model.add(Dense(10))\n",
    "drawer_model.add(Dense(500))\n",
    "drawer_model.add(Dense(1000))\n",
    "drawer_model.add(Dense(1500))\n",
    "drawer_model.add(Dense(784))\n",
    "\n",
    "drawer_model.save_fig('alexnet.svg')"
   ]
  },
  {
   "cell_type": "markdown",
   "metadata": {
    "colab_type": "text",
    "id": "mvFdHRtk2GGY"
   },
   "source": [
    "### モデルの概要を表示"
   ]
  },
  {
   "cell_type": "code",
   "execution_count": 11,
   "metadata": {
    "colab": {
     "base_uri": "https://localhost:8080/",
     "height": 442
    },
    "colab_type": "code",
    "id": "cr3WlpfZBd7a",
    "outputId": "75a74782-6a78-4ed2-bbb1-34dc3d770b83"
   },
   "outputs": [
    {
     "name": "stdout",
     "output_type": "stream",
     "text": [
      "_________________________________________________________________\n",
      "Layer (type)                 Output Shape              Param #   \n",
      "=================================================================\n",
      "input_1 (InputLayer)         (None, 784)               0         \n",
      "_________________________________________________________________\n",
      "dense_1 (Dense)              (None, 1500)              1177500   \n",
      "_________________________________________________________________\n",
      "dense_2 (Dense)              (None, 1000)              1501000   \n",
      "_________________________________________________________________\n",
      "dense_3 (Dense)              (None, 500)               500500    \n",
      "_________________________________________________________________\n",
      "dense_4 (Dense)              (None, 10)                5010      \n",
      "_________________________________________________________________\n",
      "dense_5 (Dense)              (None, 500)               5500      \n",
      "_________________________________________________________________\n",
      "dense_6 (Dense)              (None, 1000)              501000    \n",
      "_________________________________________________________________\n",
      "dense_7 (Dense)              (None, 1500)              1501500   \n",
      "_________________________________________________________________\n",
      "dense_8 (Dense)              (None, 784)               1176784   \n",
      "=================================================================\n",
      "Total params: 6,368,794\n",
      "Trainable params: 6,368,794\n",
      "Non-trainable params: 0\n",
      "_________________________________________________________________\n"
     ]
    }
   ],
   "source": [
    "model.summary()"
   ]
  },
  {
   "cell_type": "markdown",
   "metadata": {
    "colab_type": "text",
    "id": "t9yTfVZY2O01"
   },
   "source": [
    "### モデルのコンパイル\n",
    "- EarlyStoppingの設定"
   ]
  },
  {
   "cell_type": "code",
   "execution_count": 12,
   "metadata": {
    "colab": {
     "base_uri": "https://localhost:8080/",
     "height": 731
    },
    "colab_type": "code",
    "id": "Nv1BnA-39Z63",
    "outputId": "f9f6583b-e3ab-49da-f7e0-2a76d77488a5"
   },
   "outputs": [
    {
     "name": "stdout",
     "output_type": "stream",
     "text": [
      "Train on 48000 samples, validate on 12000 samples\n",
      "Epoch 1/3\n",
      "48000/48000 [==============================] - 36s 742us/step - loss: 0.0959 - val_loss: 0.0690\n",
      "Epoch 2/3\n",
      "48000/48000 [==============================] - 28s 592us/step - loss: 0.0647 - val_loss: 0.0574\n",
      "Epoch 3/3\n",
      "48000/48000 [==============================] - 27s 564us/step - loss: 0.0518 - val_loss: 0.0442\n"
     ]
    }
   ],
   "source": [
    "model.compile(optimizer='adam', loss='mse')\n",
    "early_stopping = EarlyStopping(monitor='val_loss', min_delta=0, patience=10, verbose=1, mode='auto')\n",
    "history = model.fit(train_x, train_x, epochs=3, batch_size=2048, validation_data=(val_x, val_x), callbacks=[early_stopping])"
   ]
  },
  {
   "cell_type": "markdown",
   "metadata": {},
   "source": [
    "### 学習結果の可視化"
   ]
  },
  {
   "cell_type": "code",
   "execution_count": null,
   "metadata": {},
   "outputs": [],
   "source": [
    "import matplotlib.pyplot as plt\n",
    "%matplotlib inline\n",
    "\n",
    "#loss\n",
    "plt.plot(history.history['loss'])\n",
    "plt.plot(history.history['val_loss'])\n",
    "plt.title('model loss')\n",
    "plt.ylabel('loss')\n",
    "plt.xlabel('epoch')\n",
    "plt.legend(['train', 'test'], loc='upper left')\n",
    "plt.show()"
   ]
  },
  {
   "cell_type": "code",
   "execution_count": 1,
   "metadata": {},
   "outputs": [
    {
     "ename": "NameError",
     "evalue": "name 'model' is not defined",
     "output_type": "error",
     "traceback": [
      "\u001b[0;31m---------------------------------------------------------------------------\u001b[0m",
      "\u001b[0;31mNameError\u001b[0m                                 Traceback (most recent call last)",
      "\u001b[0;32m<ipython-input-1-1a6e2fcf3ca1>\u001b[0m in \u001b[0;36m<module>\u001b[0;34m()\u001b[0m\n\u001b[0;32m----> 1\u001b[0;31m \u001b[0mpreds\u001b[0m \u001b[0;34m=\u001b[0m \u001b[0mmodel\u001b[0m\u001b[0;34m.\u001b[0m\u001b[0mpredict\u001b[0m\u001b[0;34m(\u001b[0m\u001b[0mval_x\u001b[0m\u001b[0;34m)\u001b[0m\u001b[0;34m\u001b[0m\u001b[0m\n\u001b[0m\u001b[1;32m      2\u001b[0m \u001b[0mpreds\u001b[0m\u001b[0;34m\u001b[0m\u001b[0m\n",
      "\u001b[0;31mNameError\u001b[0m: name 'model' is not defined"
     ]
    }
   ],
   "source": [
    "preds = model.predict(val_x)\n",
    "preds"
   ]
  },
  {
   "cell_type": "markdown",
   "metadata": {
    "colab_type": "text",
    "id": "_zLwSOGC3OO6"
   },
   "source": [
    "### 入力画像を表示"
   ]
  },
  {
   "cell_type": "code",
   "execution_count": 98,
   "metadata": {
    "colab": {
     "base_uri": "https://localhost:8080/",
     "height": 923
    },
    "colab_type": "code",
    "id": "05dZ5nRyC1TO",
    "outputId": "a6998a6a-c28d-46ab-9d56-4ccf2cd89458"
   },
   "outputs": [
    {
     "data": {
      "image/png": "[encoded data removed]",
      "text/plain": [
       "<matplotlib.figure.Figure at 0x14aab3e10>"
      ]
     },
     "metadata": {
      "needs_background": "light"
     },
     "output_type": "display_data"
    }
   ],
   "source": [
    "from PIL import Image\n",
    "f, ax = plt.subplots(1, 5)\n",
    "f.set_size_inches(80, 40)\n",
    "for i in range(5):\n",
    "  ax[i].imshow(val_x[i].reshape(28, 28))\n",
    "  \n",
    "plt.show()"
   ]
  },
  {
   "cell_type": "markdown",
   "metadata": {
    "colab_type": "text",
    "id": "mC1Em-XT5Czu"
   },
   "source": [
    "### 出力画像を表示"
   ]
  },
  {
   "cell_type": "code",
   "execution_count": 99,
   "metadata": {
    "colab": {
     "base_uri": "https://localhost:8080/",
     "height": 838
    },
    "colab_type": "code",
    "id": "jRXMDooXDRku",
    "outputId": "8430089e-69a0-44d8-abe9-145a1700e389"
   },
   "outputs": [
    {
     "data": {
      "image/png": "[encoded data removed]",
      "text/plain": [
       "<matplotlib.figure.Figure at 0x15eba2198>"
      ]
     },
     "metadata": {
      "needs_background": "light"
     },
     "output_type": "display_data"
    }
   ],
   "source": [
    "f, ax = plt.subplots(1, 5)\n",
    "f.set_size_inches(80, 40)\n",
    "for i in range(5):\n",
    "  ax[i].imshow(preds[i].reshape(28, 28))\n",
    "  \n",
    "plt.show()"
   ]
  },
  {
   "cell_type": "markdown",
   "metadata": {
    "colab_type": "text",
    "id": "z3Lf3MiK508h"
   },
   "source": [
    "### 画像のノイズ除去"
   ]
  },
  {
   "cell_type": "markdown",
   "metadata": {
    "colab_type": "text",
    "id": "MdFfo8095b9z"
   },
   "source": []
  },
  {
   "cell_type": "code",
   "execution_count": 100,
   "metadata": {
    "colab": {},
    "colab_type": "code",
    "id": "G2V02lFtEXqV"
   },
   "outputs": [],
   "source": [
    "train_x = train[list(train.columns)[1:]].values\n",
    "train_x, val_x = train_test_split(train_x, test_size=0.2)\n",
    "\n",
    "## normalize and reshape\n",
    "train_x = train_x/255.\n",
    "val_x = val_x/255."
   ]
  },
  {
   "cell_type": "code",
   "execution_count": 101,
   "metadata": {
    "colab": {},
    "colab_type": "code",
    "id": "yom_kL8VwUw0"
   },
   "outputs": [],
   "source": [
    "train_x = train_x.reshape(-1, 28, 28, 1)\n",
    "val_x = val_x.reshape(-1, 28, 28, 1)"
   ]
  },
  {
   "cell_type": "markdown",
   "metadata": {
    "colab_type": "text",
    "id": "8BR7leP76D4g"
   },
   "source": [
    "### ノイズを付与して、画像認識の精度を上げる\n",
    "- https://qiita.com/bohemian916/items/9630661cd5292240f8c7"
   ]
  },
  {
   "cell_type": "code",
   "execution_count": 102,
   "metadata": {
    "colab": {},
    "colab_type": "code",
    "id": "aQZ-668PwUzM"
   },
   "outputs": [
    {
     "ename": "NameError",
     "evalue": "name 'augmenters' is not defined",
     "output_type": "error",
     "traceback": [
      "\u001b[0;31m---------------------------------------------------------------------------\u001b[0m",
      "\u001b[0;31mNameError\u001b[0m                                 Traceback (most recent call last)",
      "\u001b[0;32m<ipython-input-102-26e67b4508b7>\u001b[0m in \u001b[0;36m<module>\u001b[0;34m\u001b[0m\n\u001b[0;32m----> 1\u001b[0;31m \u001b[0mnoise\u001b[0m \u001b[0;34m=\u001b[0m \u001b[0maugmenters\u001b[0m\u001b[0;34m.\u001b[0m\u001b[0mSaltAndPepper\u001b[0m\u001b[0;34m(\u001b[0m\u001b[0;36m0.1\u001b[0m\u001b[0;34m)\u001b[0m\u001b[0;34m\u001b[0m\u001b[0m\n\u001b[0m\u001b[1;32m      2\u001b[0m \u001b[0mseq_object\u001b[0m \u001b[0;34m=\u001b[0m \u001b[0maugmenters\u001b[0m\u001b[0;34m.\u001b[0m\u001b[0mSequential\u001b[0m\u001b[0;34m(\u001b[0m\u001b[0;34m[\u001b[0m\u001b[0mnoise\u001b[0m\u001b[0;34m]\u001b[0m\u001b[0;34m)\u001b[0m\u001b[0;34m\u001b[0m\u001b[0m\n\u001b[1;32m      3\u001b[0m \u001b[0;34m\u001b[0m\u001b[0m\n\u001b[1;32m      4\u001b[0m \u001b[0mtrain_x_n\u001b[0m \u001b[0;34m=\u001b[0m \u001b[0mseq_object\u001b[0m\u001b[0;34m.\u001b[0m\u001b[0maugment_images\u001b[0m\u001b[0;34m(\u001b[0m\u001b[0mtrain_x\u001b[0m \u001b[0;34m*\u001b[0m \u001b[0;36m255\u001b[0m\u001b[0;34m)\u001b[0m \u001b[0;34m/\u001b[0m \u001b[0;36m255\u001b[0m\u001b[0;34m\u001b[0m\u001b[0m\n\u001b[1;32m      5\u001b[0m \u001b[0mval_x_n\u001b[0m \u001b[0;34m=\u001b[0m \u001b[0mseq_object\u001b[0m\u001b[0;34m.\u001b[0m\u001b[0maugment_images\u001b[0m\u001b[0;34m(\u001b[0m\u001b[0mval_x\u001b[0m \u001b[0;34m*\u001b[0m \u001b[0;36m255\u001b[0m\u001b[0;34m)\u001b[0m \u001b[0;34m/\u001b[0m \u001b[0;36m255\u001b[0m\u001b[0;34m\u001b[0m\u001b[0m\n",
      "\u001b[0;31mNameError\u001b[0m: name 'augmenters' is not defined"
     ]
    }
   ],
   "source": [
    "noise = augmenters.SaltAndPepper(0.1)\n",
    "seq_object = augmenters.Sequential([noise])\n",
    "\n",
    "train_x_n = seq_object.augment_images(train_x * 255) / 255\n",
    "val_x_n = seq_object.augment_images(val_x * 255) / 255"
   ]
  },
  {
   "cell_type": "markdown",
   "metadata": {
    "colab_type": "text",
    "id": "44444jTc6bGi"
   },
   "source": [
    "### 加工前の画像を表示"
   ]
  },
  {
   "cell_type": "code",
   "execution_count": null,
   "metadata": {
    "colab": {
     "base_uri": "https://localhost:8080/",
     "height": 838
    },
    "colab_type": "code",
    "id": "KGuNwobroAW4",
    "outputId": "07dc019e-c36a-411c-ca3b-10d071eb4b50"
   },
   "outputs": [],
   "source": [
    "f, ax = plt.subplots(1,5)\n",
    "f.set_size_inches(80, 40)\n",
    "for i in range(5,10):\n",
    "  ax[i-5].imshow(train_x[i].reshape(28,28))\n",
    "  \n",
    "plt.show()"
   ]
  },
  {
   "cell_type": "markdown",
   "metadata": {
    "colab_type": "text",
    "id": "VP9a2jpY6f4O"
   },
   "source": [
    "### ノイズ付与後の画像を表示"
   ]
  },
  {
   "cell_type": "code",
   "execution_count": null,
   "metadata": {
    "colab": {
     "base_uri": "https://localhost:8080/",
     "height": 838
    },
    "colab_type": "code",
    "id": "uBDH7meYojhm",
    "outputId": "1118f7ac-a8a7-4962-ae6f-3b0003142261"
   },
   "outputs": [],
   "source": [
    "f, ax = plt.subplots(1,5)\n",
    "f.set_size_inches(80, 40)\n",
    "for i in range(5,10):\n",
    "  ax[i-5].imshow(train_x_n[i].reshape(28,28))\n",
    "  \n",
    "plt.show()"
   ]
  },
  {
   "cell_type": "markdown",
   "metadata": {
    "colab_type": "text",
    "id": "9SoVatND6kdx"
   },
   "source": [
    "### プーリング層を追加してモデル構築"
   ]
  },
  {
   "cell_type": "code",
   "execution_count": 0,
   "metadata": {
    "colab": {},
    "colab_type": "code",
    "id": "UkX3hoNaFJLt",
    "lines_to_next_cell": 2
   },
   "outputs": [],
   "source": [
    "input_layer = Input(shape=(28, 28, 1))\n",
    "\n",
    "encoded_layer1 = Conv2D(64, (3,3), activation='relu', padding='same')(input_layer)\n",
    "encoded_layer1 = MaxPool2D((2,2), padding='same')(encoded_layer1)\n",
    "\n",
    "encoded_layer2 = Conv2D(32, (3,3), activation='relu', padding='same')(encoded_layer1)\n",
    "encoded_layer2 = MaxPool2D((2,2), padding='same')(encoded_layer2)\n",
    "\n",
    "encoded_layer3 = Conv2D(16, (3,3), activation='relu', padding='same')(encoded_layer2)\n",
    "latent_view = MaxPool2D((2,2), padding='same')(encoded_layer3)\n",
    "\n",
    "decoded_layer1 = Conv2D(16, (3,3), activation='relu', padding='same')(latent_view)\n",
    "decoded_layer1 = UpSampling2D((2,2))(decoded_layer1)\n",
    "\n",
    "decoded_layer2 = Conv2D(32, (3,3), activation='relu', padding='same')(decoded_layer1)\n",
    "decoded_layer2 = UpSampling2D((2,2))(decoded_layer2)\n",
    "\n",
    "decoded_layer3 = Conv2D(64, (3,3), activation='relu')(decoded_layer2)\n",
    "decoded_layer3 = UpSampling2D((2,2))(decoded_layer3)\n",
    "\n",
    "output_layer = Conv2D(1, (3,3), padding='same')(decoded_layer3)\n",
    "\n",
    "model_2 = Model(input_layer, output_layer)\n",
    "model_2.compile(optimizer='adam', loss='mse')"
   ]
  },
  {
   "cell_type": "markdown",
   "metadata": {
    "colab_type": "text",
    "id": "fHH62KrI7Um2"
   },
   "source": [
    "### モデルの概要を表示"
   ]
  },
  {
   "cell_type": "code",
   "execution_count": 122,
   "metadata": {
    "colab": {
     "base_uri": "https://localhost:8080/",
     "height": 629
    },
    "colab_type": "code",
    "id": "Kob51f3Lpjrk",
    "outputId": "9daf8bfa-5e2b-4930-b6ea-d5b5ce478503"
   },
   "outputs": [
    {
     "name": "stdout",
     "output_type": "stream",
     "text": [
      "_________________________________________________________________\n",
      "Layer (type)                 Output Shape              Param #   \n",
      "=================================================================\n",
      "input_11 (InputLayer)        (None, 28, 28, 1)         0         \n",
      "_________________________________________________________________\n",
      "conv2d_46 (Conv2D)           (None, 28, 28, 64)        640       \n",
      "_________________________________________________________________\n",
      "max_pooling2d_22 (MaxPooling (None, 14, 14, 64)        0         \n",
      "_________________________________________________________________\n",
      "conv2d_47 (Conv2D)           (None, 14, 14, 32)        18464     \n",
      "_________________________________________________________________\n",
      "max_pooling2d_23 (MaxPooling (None, 7, 7, 32)          0         \n",
      "_________________________________________________________________\n",
      "conv2d_48 (Conv2D)           (None, 7, 7, 16)          4624      \n",
      "_________________________________________________________________\n",
      "max_pooling2d_24 (MaxPooling (None, 4, 4, 16)          0         \n",
      "_________________________________________________________________\n",
      "conv2d_49 (Conv2D)           (None, 4, 4, 16)          2320      \n",
      "_________________________________________________________________\n",
      "up_sampling2d_20 (UpSampling (None, 8, 8, 16)          0         \n",
      "_________________________________________________________________\n",
      "conv2d_50 (Conv2D)           (None, 8, 8, 32)          4640      \n",
      "_________________________________________________________________\n",
      "up_sampling2d_21 (UpSampling (None, 16, 16, 32)        0         \n",
      "_________________________________________________________________\n",
      "conv2d_51 (Conv2D)           (None, 14, 14, 64)        18496     \n",
      "_________________________________________________________________\n",
      "up_sampling2d_22 (UpSampling (None, 28, 28, 64)        0         \n",
      "_________________________________________________________________\n",
      "conv2d_52 (Conv2D)           (None, 28, 28, 1)         577       \n",
      "=================================================================\n",
      "Total params: 49,761\n",
      "Trainable params: 49,761\n",
      "Non-trainable params: 0\n",
      "_________________________________________________________________\n",
      "(48000, 28, 28, 1)\n"
     ]
    }
   ],
   "source": [
    "model_2.summary()"
   ]
  },
  {
   "cell_type": "markdown",
   "metadata": {
    "colab_type": "text",
    "id": "utPawuva7e6X"
   },
   "source": [
    "### EarlyStoppingの設定"
   ]
  },
  {
   "cell_type": "code",
   "execution_count": 123,
   "metadata": {
    "colab": {
     "base_uri": "https://localhost:8080/",
     "height": 374
    },
    "colab_type": "code",
    "id": "qgfNMei5ftH1",
    "outputId": "eb8986b1-c026-463a-981f-bb33848b62a3"
   },
   "outputs": [
    {
     "name": "stdout",
     "output_type": "stream",
     "text": [
      "Train on 48000 samples, validate on 12000 samples\n",
      "Epoch 1/10\n",
      "48000/48000 [==============================] - 251s 5ms/step - loss: 0.1117 - val_loss: 0.0614\n",
      "Epoch 2/10\n",
      "48000/48000 [==============================] - 247s 5ms/step - loss: 0.0500 - val_loss: 0.0409\n",
      "Epoch 3/10\n",
      "48000/48000 [==============================] - 248s 5ms/step - loss: 0.0357 - val_loss: 0.0319\n",
      "Epoch 4/10\n",
      "48000/48000 [==============================] - 247s 5ms/step - loss: 0.0298 - val_loss: 0.0278\n",
      "Epoch 5/10\n",
      "48000/48000 [==============================] - 247s 5ms/step - loss: 0.0265 - val_loss: 0.0253\n",
      "Epoch 6/10\n",
      "48000/48000 [==============================] - 248s 5ms/step - loss: 0.0245 - val_loss: 0.0237\n",
      "Epoch 7/10\n",
      "48000/48000 [==============================] - 247s 5ms/step - loss: 0.0233 - val_loss: 0.0226\n",
      "Epoch 8/10\n",
      "48000/48000 [==============================] - 247s 5ms/step - loss: 0.0222 - val_loss: 0.0217\n",
      "Epoch 9/10\n",
      "48000/48000 [==============================] - 249s 5ms/step - loss: 0.0215 - val_loss: 0.0210\n",
      "Epoch 10/10\n",
      "48000/48000 [==============================] - 250s 5ms/step - loss: 0.0209 - val_loss: 0.0204\n"
     ]
    }
   ],
   "source": [
    "early_stopping = EarlyStopping(monitor='val_loss', min_delta=0, patience=10, verbose=5, mode='auto')\n",
    "history = model_2.fit(train_x_n, train_x, epochs=10, batch_size=2048, validation_data=(val_x_n, val_x), callbacks=[early_stopping])"
   ]
  },
  {
   "cell_type": "code",
   "execution_count": 125,
   "metadata": {
    "colab": {
     "base_uri": "https://localhost:8080/",
     "height": 838
    },
    "colab_type": "code",
    "id": "_OZPx2kcinZi",
    "outputId": "a54ee176-3daa-4a27-b185-b8c393697458"
   },
   "outputs": [
    {
     "data": {
      "image/png": "[encoded data removed]",
      "text/plain": [
       "<Figure size 5760x2880 with 5 Axes>"
      ]
     },
     "metadata": {
      "tags": []
     },
     "output_type": "display_data"
    }
   ],
   "source": [
    "preds = model_2.predict(val_x_n[:10])\n",
    "f, ax = plt.subplots(1,5)\n",
    "f.set_size_inches(80, 40)\n",
    "for i in range(5,10):\n",
    "    ax[i-5].imshow(preds[i].reshape(28, 28))\n",
    "plt.show()"
   ]
  },
  {
   "cell_type": "markdown",
   "metadata": {
    "colab_type": "text",
    "id": "7o963kGV78SK"
   },
   "source": [
    "### オートエンコーダを用いたシーケンス間予測"
   ]
  },
  {
   "cell_type": "code",
   "execution_count": 0,
   "metadata": {
    "colab": {},
    "colab_type": "code",
    "id": "zlMOCK-EqVhm"
   },
   "outputs": [],
   "source": [
    "def dataset_preparation(n_in, n_out, n_unique, n_samples):\n",
    "  X1, X2, y = [], [], []\n",
    "  for _ in range(n_samples):\n",
    "    inp_seq = [randint(1, n_unique-1) for _ in range(n_in)]\n",
    "    \n",
    "    target_seq = list(reversed(target))\n",
    "    send_seq = [0] + target_seq[:-1]\n",
    "    \n",
    "    X1.append(to_categorical([inp_seq], num_classes=n_unique))\n",
    "    X2.append(to_categorical([seed_seq], num_classes=n_unique))\n",
    "    y.append(to_categorical([target_seq], num_classes=n_unique))\n",
    "    \n",
    "    X1 = np.squeeze(np.array(X1), axis=1)\n",
    "    X2 = np.squeeze(np.array(X2), axis=1)\n",
    "    y = np.squeeze(np.array(y), axis=1)\n",
    "    \n",
    "    return X1, X2, y\n",
    "  \n",
    "  samples = 100000\n",
    "  features = 51\n",
    "  inp_size = 6\n",
    "  out_size = 3\n",
    "  \n",
    "  inputs, seeds, outputs = dataset_preparation(inp_size, out_size, features, samples)\n",
    "  \n",
    "  print(\"Shapes: \", inputs.shape, seeds.shape, outputs.shape)\n",
    "  print(\"Here is first categorically encoded input seqquence looks like: \",)\n",
    "  inputs[0][0]"
   ]
  },
  {
   "cell_type": "code",
   "execution_count": null,
   "metadata": {
    "colab": {},
    "colab_type": "code",
    "id": "f-hp0rkK0URf"
   },
   "outputs": [],
   "source": []
  }
 ],
 "metadata": {
  "colab": {
   "name": "main.ipynb",
   "provenance": [],
   "version": "0.3.2"
  },
  "jupytext": {
   "formats": "ipynb,py"
  },
  "kernelspec": {
   "display_name": "Python 3",
   "language": "python",
   "name": "python3"
  },
  "language_info": {
   "codemirror_mode": {
    "name": "ipython",
    "version": 3
   },
   "file_extension": ".py",
   "mimetype": "text/x-python",
   "name": "python",
   "nbconvert_exporter": "python",
   "pygments_lexer": "ipython3",
   "version": "3.6.4"
  }
 },
 "nbformat": 4,
 "nbformat_minor": 2
}
